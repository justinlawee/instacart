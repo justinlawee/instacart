{
 "cells": [
  {
   "cell_type": "code",
   "execution_count": 3,
   "id": "f7e8aeae-32d9-49c6-b614-6e763f1fc0ec",
   "metadata": {},
   "outputs": [
    {
     "name": "stdout",
     "output_type": "stream",
     "text": [
      "✅ Model trained and saved as instacart_model.pkl\n"
     ]
    }
   ],
   "source": [
    "import pandas as pd\n",
    "from sklearn.ensemble import RandomForestClassifier\n",
    "import joblib\n",
    "\n",
    "# Load your CSV\n",
    "df = pd.read_csv(\"instacart_training_input.csv\")\n",
    "\n",
    "# Define features and label (uppercase!)\n",
    "X = df.drop(columns=[\"USER_ID\", \"PRODUCT_ID\", \"REORDERED_LABEL\"])\n",
    "y = df[\"REORDERED_LABEL\"]\n",
    "\n",
    "# Train the model\n",
    "model = RandomForestClassifier(n_estimators=10, random_state=42)\n",
    "model.fit(X, y)\n",
    "\n",
    "# Save the trained model to a .pkl file\n",
    "joblib.dump(model, \"instacart_model.pkl\")\n",
    "\n",
    "print(\"✅ Model trained and saved as instacart_model.pkl\")\n"
   ]
  },
  {
   "cell_type": "code",
   "execution_count": 11,
   "id": "584c1fe4-1868-481e-9721-10101fe50f47",
   "metadata": {},
   "outputs": [
    {
     "name": "stdout",
     "output_type": "stream",
     "text": [
      "Done!\n"
     ]
    }
   ],
   "source": [
    "# Load model\n",
    "import joblib\n",
    "model = joblib.load(\"instacart_model.pkl\")\n",
    "\n",
    "# Load features\n",
    "df = pd.read_csv(\"instacart_training_input.csv\").dropna()\n",
    "X = df[[\"TOTAL_ORDERS\", \"TOTAL_REORDERS\", \"REORDER_RATE\", \"MAX_ORDER_NUMBER\", \"DAYS_SINCE_LAST_ORDER\"]]\n",
    "\n",
    "# Predict\n",
    "df[\"REORDER_PROBABILITY\"] = model.predict_proba(X)[:, 1]\n",
    "\n",
    "# Export to CSV\n",
    "df[[\"USER_ID\", \"PRODUCT_ID\", \"REORDER_PROBABILITY\"]].to_csv(\"predicted_reorders.csv\", index=False)\n",
    "print(\"Done!\")"
   ]
  }
 ],
 "metadata": {
  "kernelspec": {
   "display_name": "Python (justin-env)",
   "language": "python",
   "name": "justin-env"
  },
  "language_info": {
   "codemirror_mode": {
    "name": "ipython",
    "version": 3
   },
   "file_extension": ".py",
   "mimetype": "text/x-python",
   "name": "python",
   "nbconvert_exporter": "python",
   "pygments_lexer": "ipython3",
   "version": "3.11.9"
  }
 },
 "nbformat": 4,
 "nbformat_minor": 5
}
